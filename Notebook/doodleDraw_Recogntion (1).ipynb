{
  "nbformat": 4,
  "nbformat_minor": 0,
  "metadata": {
    "colab": {
      "provenance": []
    },
    "kernelspec": {
      "name": "python3",
      "display_name": "Python 3"
    },
    "language_info": {
      "name": "python"
    }
  },
  "cells": [
    {
      "cell_type": "code",
      "execution_count": null,
      "metadata": {
        "id": "flcKYjG1AMFG"
      },
      "outputs": [],
      "source": [
        "!mkdir ~/.kaggle\n",
        "!cp /content/kaggle.json ~/.kaggle\n",
        "!chmod 600 ~/.kaggle/kaggle.json\n",
        "!kaggle datasets download -d google/tinyquickdraw\n",
        "!unzip tinyquickdraw"
      ]
    },
    {
      "cell_type": "code",
      "source": [
        "import tensorflow as tf\n",
        "from tensorflow.keras import layers, models\n",
        "from tensorflow.keras import callbacks\n",
        "\n",
        "import matplotlib.pyplot as plt\n",
        "from mpl_toolkits import mplot3d\n",
        "\n",
        "import numpy as np\n",
        "from pathlib import Path\n",
        "import glob\n",
        "import json"
      ],
      "metadata": {
        "id": "YsdRPWn0DF7f"
      },
      "execution_count": 12,
      "outputs": []
    },
    {
      "cell_type": "code",
      "source": [
        "dataset = list(Path('/content/quickdraw_simplified').glob('**/*.ndjson'))"
      ],
      "metadata": {
        "id": "wkb4T-YYIeul"
      },
      "execution_count": 4,
      "outputs": []
    },
    {
      "cell_type": "code",
      "source": [
        "len(dataset)"
      ],
      "metadata": {
        "id": "MZVz7Zc8X85k"
      },
      "execution_count": null,
      "outputs": []
    },
    {
      "cell_type": "code",
      "source": [
        "stop_pt = 5\n",
        "\n",
        "\n",
        "classes = {}\n",
        "for i, path in enumerate(dataset[:stop_pt]):\n",
        "  name = str(path).split('/')[-1].split('.')[0]\n",
        "  classes[name] = i\n",
        "\n",
        "print(classes)"
      ],
      "metadata": {
        "id": "r67s5zZQXXt3",
        "outputId": "d437424e-4349-48c5-b88a-4d2a29538eaf",
        "colab": {
          "base_uri": "https://localhost:8080/"
        }
      },
      "execution_count": 124,
      "outputs": [
        {
          "output_type": "stream",
          "name": "stdout",
          "text": [
            "{'parrot': 0, 'mushroom': 1, 'sock': 2, 'eyeglasses': 3, 'dishwasher': 4}\n"
          ]
        }
      ]
    },
    {
      "cell_type": "code",
      "source": [
        "x_axis = []\n",
        "y_axis = []\n",
        "tag = []\n",
        "max_length = 0\n",
        "\n",
        "for index, path in enumerate(dataset[:stop_pt]):\n",
        "  with open(str(path)) as fp:\n",
        "    for line in fp:\n",
        "      drawing = json.loads(line)\n",
        "      t_x = [0 for _ in range(stop_pt)]\n",
        "      t_x[index] = 1\n",
        "      tag.append(t_x)\n",
        "      t_x = []; t_y = []\n",
        "      for x, y in drawing['drawing']:\n",
        "        length = len(x)\n",
        "        if max_length < length:\n",
        "          max_length = length\n",
        "        t_x.append(x); t_y.append(y)\n",
        "      x_axis.append(t_x); y_axis.append(t_y)\n",
        "\n",
        "print(max_length)"
      ],
      "metadata": {
        "colab": {
          "base_uri": "https://localhost:8080/"
        },
        "id": "tOFTtFvS04l-",
        "outputId": "33c20159-f71b-4779-d151-2bdd6e6e8223"
      },
      "execution_count": 41,
      "outputs": [
        {
          "output_type": "stream",
          "name": "stdout",
          "text": [
            "933\n"
          ]
        }
      ]
    },
    {
      "cell_type": "code",
      "source": [
        "for p, (img_x, img_y) in enumerate(zip(x_axis, y_axis)):\n",
        "  max_col = max([len(_) for _ in img_x])\n",
        "\n",
        "  #add padding\n",
        "  for _ in range(len(img_x[0]), max_col):\n",
        "    x_axis[p][0].append(0)\n",
        "    y_axis[p][0].append(0)\n",
        "\n",
        "  #perform hashing\n",
        "  for index, (x_vec, y_vec) in enumerate(zip(img_x[1:], img_y[1:])):\n",
        "    for k, (i, j) in enumerate(zip(x_vec, y_vec)):\n",
        "      x_axis[p][0][k] = x_axis[p][0][k] + index*i; y_axis[p][0][k] = y_axis[p][0][k] + index*j"
      ],
      "metadata": {
        "id": "8cV8HE031A5h"
      },
      "execution_count": 42,
      "outputs": []
    },
    {
      "cell_type": "code",
      "source": [
        "img_vectors_x = []\n",
        "img_vectors_y = []\n",
        "max_val = 0\n",
        "\n",
        "#collect zero index vectors\n",
        "for p, (img_x, img_y) in enumerate(zip(x_axis, y_axis)):\n",
        "  if max(img_x[0]) > max_val:\n",
        "    max_val = max(img_x[0])\n",
        "  if max(img_y[0]) > max_val:\n",
        "    max_val = max(img_x[0])\n",
        "  img_vectors_x.append(img_x[0]); img_vectors_y.append(img_y[0])\n",
        "\n",
        "print(max_val)"
      ],
      "metadata": {
        "colab": {
          "base_uri": "https://localhost:8080/"
        },
        "id": "hqeWbSkb1hZP",
        "outputId": "a4d8a9f5-590b-41c3-da77-b7155f17aca5"
      },
      "execution_count": 43,
      "outputs": [
        {
          "output_type": "stream",
          "name": "stdout",
          "text": [
            "13471196\n"
          ]
        }
      ]
    },
    {
      "cell_type": "code",
      "source": [
        "del x_axis\n",
        "del y_axis"
      ],
      "metadata": {
        "id": "521pF_il1F4u"
      },
      "execution_count": 44,
      "outputs": []
    },
    {
      "cell_type": "code",
      "source": [
        "#add padding up to the observable point\n",
        "\n",
        "observ_pt = 9\n",
        "train_x = []\n",
        "train_y = []\n",
        "labels = []\n",
        "\n",
        "for i, (vec_x, vec_y) in enumerate(zip(img_vectors_x, img_vectors_y)):\n",
        "  if len(vec_x) < observ_pt:\n",
        "    del img_vectors_x[i]\n",
        "    del img_vectors_y[i]\n",
        "    del tag[i]\n",
        "    continue\n",
        "  train_x.append(img_vectors_x[i][:observ_pt])\n",
        "  train_y.append(img_vectors_y[i][:observ_pt])\n",
        "  labels.append(tag[i])"
      ],
      "metadata": {
        "id": "rdXTRnFl1GdP"
      },
      "execution_count": 45,
      "outputs": []
    },
    {
      "cell_type": "code",
      "source": [
        "del img_vectors_x\n",
        "del img_vectors_y"
      ],
      "metadata": {
        "id": "qIs8vPYs-RzX"
      },
      "execution_count": 46,
      "outputs": []
    },
    {
      "cell_type": "code",
      "source": [
        "#normalize vectors\n",
        "train_x = np.array(train_x)\n",
        "train_y = np.array(train_y)\n",
        "labels = np.array(labels)\n",
        "\n",
        "print(train_x.shape, train_y.shape, labels.shape)"
      ],
      "metadata": {
        "colab": {
          "base_uri": "https://localhost:8080/"
        },
        "id": "FUFQ0cGM1Jc0",
        "outputId": "b11ff523-5538-41c5-80ad-74375419cf02"
      },
      "execution_count": 47,
      "outputs": [
        {
          "output_type": "stream",
          "name": "stdout",
          "text": [
            "(890939, 9) (890939, 9) (890939, 5)\n"
          ]
        }
      ]
    },
    {
      "cell_type": "code",
      "source": [
        "train_x[0]"
      ],
      "metadata": {
        "id": "nTpEDfkTABU7",
        "outputId": "aebc5aa5-1260-4ff3-a237-fd42aad4d4cc",
        "colab": {
          "base_uri": "https://localhost:8080/"
        }
      },
      "execution_count": 49,
      "outputs": [
        {
          "output_type": "execute_result",
          "data": {
            "text/plain": [
              "array([291, 287, 127, 101,  77,  49,  29,   5,   0])"
            ]
          },
          "metadata": {},
          "execution_count": 49
        }
      ]
    },
    {
      "cell_type": "code",
      "source": [
        "input_layer = layers.Input(shape=(9, ))\n",
        "\n",
        "x = tf.expand_dims(input_layer, axis=1)\n",
        "\n",
        "x = layers.Bidirectional(layers.LSTM(256, return_sequences = True))(x)\n",
        "skip_connection = x\n",
        "\n",
        "x = layers.Bidirectional(layers.LSTM(256, return_sequences = True))(x)\n",
        "x = layers.Concatenate()([x, skip_connection])\n",
        "\n",
        "x = layers.Bidirectional(layers.LSTM(128))(x)\n",
        "x = layers.LayerNormalization()(x)\n",
        "\n",
        "output_layer = layers.Flatten()(x)\n",
        "\n",
        "model_x = models.Model(input_layer, output_layer)"
      ],
      "metadata": {
        "id": "1HMmDdm1SH0C"
      },
      "execution_count": 13,
      "outputs": []
    },
    {
      "cell_type": "code",
      "source": [
        "input_layer_y = layers.Input(shape=(9, ))\n",
        "\n",
        "y = tf.expand_dims(input_layer_y, axis=1)\n",
        "\n",
        "y = layers.Bidirectional(layers.LSTM(256, return_sequences = True))(y)\n",
        "skip_connection = y\n",
        "\n",
        "y = layers.Bidirectional(layers.LSTM(256, return_sequences = True))(y)\n",
        "y = layers.Concatenate()([y, skip_connection])\n",
        "\n",
        "y = layers.Bidirectional(layers.LSTM(128))(y)\n",
        "y = layers.LayerNormalization()(y)\n",
        "\n",
        "y = layers.Flatten()(y)\n",
        "output_layer_y = layers.Dense(256, activation='relu')(y)\n",
        "\n",
        "model_y = models.Model(input_layer_y, output_layer_y)"
      ],
      "metadata": {
        "id": "TCNKQZaN_vxT"
      },
      "execution_count": 14,
      "outputs": []
    },
    {
      "cell_type": "code",
      "source": [
        "stop_pt = 5\n",
        "\n",
        "in_x = layers.Input(shape=(9, ))\n",
        "in_y = layers.Input(shape=(9, ))\n",
        "\n",
        "x = model_x([in_x])\n",
        "y = model_y([in_y])\n",
        "\n",
        "xy = layers.Concatenate()([x, y])\n",
        "\n",
        "prediction_layer = layers.Dense(stop_pt, activation='softmax')(xy)\n",
        "\n",
        "model = models.Model([in_x, in_y], prediction_layer)"
      ],
      "metadata": {
        "id": "KIplR0xFBXfc"
      },
      "execution_count": 16,
      "outputs": []
    },
    {
      "cell_type": "code",
      "source": [
        "model.compile(\n",
        "    optimizer = 'adam',\n",
        "    loss = 'categorical_crossentropy',\n",
        "    metrics = ['accuracy']\n",
        ")"
      ],
      "metadata": {
        "id": "Gf3mtOtEYxt1"
      },
      "execution_count": 92,
      "outputs": []
    },
    {
      "cell_type": "code",
      "source": [
        "model.summary()"
      ],
      "metadata": {
        "colab": {
          "base_uri": "https://localhost:8080/"
        },
        "id": "B811C7-_aJhB",
        "outputId": "a11adb1a-de14-4c48-fd55-4ab95c2d8d8b"
      },
      "execution_count": 90,
      "outputs": [
        {
          "output_type": "stream",
          "name": "stdout",
          "text": [
            "Model: \"model_12\"\n",
            "__________________________________________________________________________________________________\n",
            " Layer (type)                Output Shape                 Param #   Connected to                  \n",
            "==================================================================================================\n",
            " input_34 (InputLayer)       [(None, 9)]                  0         []                            \n",
            "                                                                                                  \n",
            " input_35 (InputLayer)       [(None, 9)]                  0         []                            \n",
            "                                                                                                  \n",
            " model_10 (Functional)       (None, 256)                  3300864   ['input_34[0][0]']            \n",
            "                                                                                                  \n",
            " model_11 (Functional)       (None, 256)                  3366656   ['input_35[0][0]']            \n",
            "                                                                                                  \n",
            " concatenate_16 (Concatenat  (None, 512)                  0         ['model_10[0][0]',            \n",
            " e)                                                                  'model_11[0][0]']            \n",
            "                                                                                                  \n",
            " dense_15 (Dense)            (None, 5)                    2565      ['concatenate_16[0][0]']      \n",
            "                                                                                                  \n",
            "==================================================================================================\n",
            "Total params: 6670085 (25.44 MB)\n",
            "Trainable params: 6670085 (25.44 MB)\n",
            "Non-trainable params: 0 (0.00 Byte)\n",
            "__________________________________________________________________________________________________\n"
          ]
        }
      ]
    },
    {
      "cell_type": "code",
      "source": [
        "earlyStoping = callbacks.EarlyStopping(monitor='loss', patience=3, restore_best_weights=True)"
      ],
      "metadata": {
        "id": "Z88_BHshZMeu"
      },
      "execution_count": 63,
      "outputs": []
    },
    {
      "cell_type": "code",
      "source": [
        "train_x.shape"
      ],
      "metadata": {
        "id": "9MCzfk-2EgXB",
        "outputId": "35686ab2-6d4f-4848-f363-f3c2b78401aa",
        "colab": {
          "base_uri": "https://localhost:8080/"
        }
      },
      "execution_count": 76,
      "outputs": [
        {
          "output_type": "execute_result",
          "data": {
            "text/plain": [
              "(890939, 9)"
            ]
          },
          "metadata": {},
          "execution_count": 76
        }
      ]
    },
    {
      "cell_type": "code",
      "source": [
        "batch_size=32\n",
        "history = model.fit(\n",
        "    [train_x, train_y], labels,\n",
        "    epochs = 10,\n",
        "    shuffle = True,\n",
        "    validation_split = 0.2\n",
        "    batch_size = batch_size,\n",
        "    callbacks = [earlyStoping]\n",
        ")"
      ],
      "metadata": {
        "colab": {
          "base_uri": "https://localhost:8080/"
        },
        "id": "pZpXYJJWZBui",
        "outputId": "f9af5cc1-2cf6-49d5-d4ca-9927c441781c"
      },
      "execution_count": 93,
      "outputs": [
        {
          "output_type": "stream",
          "name": "stdout",
          "text": [
            "Epoch 1/10\n",
            "8910/8910 [==============================] - 272s 27ms/step - loss: 0.9485 - accuracy: 0.6458\n",
            "Epoch 2/10\n",
            "8910/8910 [==============================] - 240s 27ms/step - loss: 0.8308 - accuracy: 0.6944\n",
            "Epoch 3/10\n",
            "8910/8910 [==============================] - 243s 27ms/step - loss: 0.8055 - accuracy: 0.7043\n",
            "Epoch 4/10\n",
            "8910/8910 [==============================] - 241s 27ms/step - loss: 0.7898 - accuracy: 0.7101\n",
            "Epoch 5/10\n",
            "8910/8910 [==============================] - 240s 27ms/step - loss: 0.7791 - accuracy: 0.7153\n",
            "Epoch 6/10\n",
            "8910/8910 [==============================] - 241s 27ms/step - loss: 0.7732 - accuracy: 0.7170\n",
            "Epoch 7/10\n",
            "8910/8910 [==============================] - 242s 27ms/step - loss: 0.7638 - accuracy: 0.7206\n",
            "Epoch 8/10\n",
            "8910/8910 [==============================] - 233s 26ms/step - loss: 0.7589 - accuracy: 0.7228\n",
            "Epoch 9/10\n",
            "8910/8910 [==============================] - 267s 30ms/step - loss: 0.7502 - accuracy: 0.7261\n",
            "Epoch 10/10\n",
            "8910/8910 [==============================] - 262s 29ms/step - loss: 0.7511 - accuracy: 0.7263\n"
          ]
        },
        {
          "output_type": "execute_result",
          "data": {
            "text/plain": [
              "<keras.src.callbacks.History at 0x7e5a5c7aee60>"
            ]
          },
          "metadata": {},
          "execution_count": 93
        }
      ]
    },
    {
      "cell_type": "code",
      "source": [
        "from google.colab import drive\n",
        "drive.mount('/content/mdrive/')"
      ],
      "metadata": {
        "id": "ytdnieHoVVzH",
        "outputId": "9ef2abbe-1902-48b5-8ff8-1cdb47300909",
        "colab": {
          "base_uri": "https://localhost:8080/"
        }
      },
      "execution_count": 95,
      "outputs": [
        {
          "output_type": "stream",
          "name": "stdout",
          "text": [
            "Mounted at /content/mdrive/\n"
          ]
        }
      ]
    },
    {
      "cell_type": "code",
      "source": [
        "model.save('/content/mdrive/MyDrive/Colab Notebooks/doodle_draw.keras')"
      ],
      "metadata": {
        "id": "1Sv3pMxqTH0z"
      },
      "execution_count": 96,
      "outputs": []
    },
    {
      "cell_type": "code",
      "source": [
        "train_y[0]"
      ],
      "metadata": {
        "id": "VxNBjW3tWLmQ",
        "outputId": "eb1d5b0c-c578-49a7-a7e2-845bdd499999",
        "colab": {
          "base_uri": "https://localhost:8080/"
        }
      },
      "execution_count": 101,
      "outputs": [
        {
          "output_type": "execute_result",
          "data": {
            "text/plain": [
              "array([104,  83,  10,   0,   0,   8,  48,  57,  66])"
            ]
          },
          "metadata": {},
          "execution_count": 101
        }
      ]
    },
    {
      "cell_type": "code",
      "source": [
        "len(train_x)"
      ],
      "metadata": {
        "id": "3So1ISsLYmw4",
        "outputId": "6751a22f-ad63-4948-ca08-e7470abd8a9a",
        "colab": {
          "base_uri": "https://localhost:8080/"
        }
      },
      "execution_count": 153,
      "outputs": [
        {
          "output_type": "execute_result",
          "data": {
            "text/plain": [
              "890939"
            ]
          },
          "metadata": {},
          "execution_count": 153
        }
      ]
    },
    {
      "cell_type": "code",
      "source": [
        "i = 890900\n",
        "x = np.array([train_x[i]])\n",
        "y = np.array([train_y[i]])"
      ],
      "metadata": {
        "id": "QxvC-IAhWiil"
      },
      "execution_count": 158,
      "outputs": []
    },
    {
      "cell_type": "code",
      "source": [
        "prediction = model.predict([x, y])"
      ],
      "metadata": {
        "colab": {
          "base_uri": "https://localhost:8080/"
        },
        "id": "T8UxV9vbh6yx",
        "outputId": "1b26ab84-5aa1-4349-913d-8987eb925501"
      },
      "execution_count": 159,
      "outputs": [
        {
          "output_type": "stream",
          "name": "stdout",
          "text": [
            "1/1 [==============================] - 0s 30ms/step\n"
          ]
        }
      ]
    },
    {
      "cell_type": "code",
      "source": [
        "np.argmax(prediction[0])"
      ],
      "metadata": {
        "colab": {
          "base_uri": "https://localhost:8080/"
        },
        "id": "Uqe9-wJHiJyW",
        "outputId": "d2315718-ff22-4bb9-81d1-69b61df7dd76"
      },
      "execution_count": 160,
      "outputs": [
        {
          "output_type": "execute_result",
          "data": {
            "text/plain": [
              "4"
            ]
          },
          "metadata": {},
          "execution_count": 160
        }
      ]
    },
    {
      "cell_type": "code",
      "source": [
        "labels[i]"
      ],
      "metadata": {
        "colab": {
          "base_uri": "https://localhost:8080/"
        },
        "id": "HcvgyvEQiPAt",
        "outputId": "2b9461cb-4937-4d6b-97f6-7a262a56d2ef"
      },
      "execution_count": 161,
      "outputs": [
        {
          "output_type": "execute_result",
          "data": {
            "text/plain": [
              "array([0, 0, 0, 0, 1])"
            ]
          },
          "metadata": {},
          "execution_count": 161
        }
      ]
    },
    {
      "cell_type": "code",
      "source": [
        "for key, value in classes.items():\n",
        "  if value == np.argmax(labels[i]):\n",
        "    print(\"True: \", key)\n",
        "\n",
        "for key, value in classes.items():\n",
        "  if value == np.argmax(prediction[0]):\n",
        "    print(\"Predicted: \", key)"
      ],
      "metadata": {
        "id": "YMVevfpha_ML"
      },
      "execution_count": null,
      "outputs": []
    },
    {
      "cell_type": "code",
      "source": [
        "from tensorflow.keras.models import load_model"
      ],
      "metadata": {
        "id": "mgsZdCSWamLi"
      },
      "execution_count": 165,
      "outputs": []
    },
    {
      "cell_type": "code",
      "source": [
        "class Predict():\n",
        "  def __init__(self, model_path):\n",
        "    self.model = load_model(str(model_path))\n",
        "\n",
        "  def recognize(self, x, y):\n",
        "    x = np.array([x])\n",
        "    y = np.array([y])\n",
        "    prediction = model.predict([x, y])\n",
        "    for key, value in classes.items():\n",
        "      if value == np.argmax(prediction[0]):\n",
        "        prediction = key\n",
        "\n",
        "    return prediction"
      ],
      "metadata": {
        "id": "x4zZyPRiZfwx",
        "outputId": "ebcd7bb7-a17a-456a-88cf-00bdc091d0de",
        "colab": {
          "base_uri": "https://localhost:8080/"
        }
      },
      "execution_count": 163,
      "outputs": [
        {
          "output_type": "stream",
          "name": "stdout",
          "text": [
            "True:  dishwasher\n",
            "Predicted:  dishwasher\n"
          ]
        }
      ]
    },
    {
      "cell_type": "code",
      "source": [
        "import numpy as np\n",
        "import cv2 as cv\n",
        "import threading\n",
        "import os\n",
        "\n",
        "os.system('mkdir liveRecognition')\n",
        "\n",
        "t1 = threading.Thread(target=captureFrames)\n",
        "t2 = threading.Thread(target=preprocess_image, args=path)\n",
        "\n",
        "t1.start()\n",
        "t2.start()\n",
        "\n",
        "t1.join()\n",
        "t2.join()\n",
        "\n",
        "\n",
        "def captureFrames():\n",
        "  #save only last 3 images\n",
        "  i = 0\n",
        "  cap = cv.VideoCapture(0)\n",
        "  if not cap.isOpened():\n",
        "      print(\"Cannot open camera\")\n",
        "      exit()\n",
        "  while True:\n",
        "      ret, frame = cap.read()\n",
        "      if not ret:\n",
        "          print(\"Can't receive frame (stream end?). Exiting ...\")\n",
        "          break\n",
        "      cv.imshow('frame', frame)\n",
        "      cv.imwrite(f'image_{i}.jpg', frame)\n",
        "      i = i + 1\n",
        "      if i == 3:\n",
        "        i = 0\n",
        "      if cv.waitKey(1) == ord('q'):\n",
        "          break\n",
        "  cap.release()\n",
        "  cv.destroyAllWindows()\n",
        "\n",
        "def preprocess_image(path):\n",
        "  paths = list(Path(path).glob('**/*.jpg'))\n",
        "  for path in paths:\n",
        "    ndjson_data = image_to_ndjson(path)\n",
        ""
      ],
      "metadata": {
        "id": "V8_YZvJCbibg",
        "outputId": "46bd618c-03cb-4c90-f2c1-65812ef962f4",
        "colab": {
          "base_uri": "https://localhost:8080/"
        }
      },
      "execution_count": 166,
      "outputs": [
        {
          "output_type": "stream",
          "name": "stdout",
          "text": [
            "Cannot open camera\n",
            "Can't receive frame (stream end?). Exiting ...\n"
          ]
        }
      ]
    },
    {
      "cell_type": "code",
      "source": [
        "from PIL import Image\n",
        "import json\n",
        "import sys\n",
        "\n",
        "def image_to_ndjson(image_path):\n",
        "\n",
        "\n",
        "# Convert features to NDJSON format\n",
        "ndjson_data = json.dumps(features)\n",
        "\n",
        "# Write NDJSON data to a file\n",
        "with open('image.ndjson', 'w') as file:\n",
        "    file.write(ndjson_data + '\\n')\n",
        "\n",
        "    try:\n",
        "        # Open the image file\n",
        "        img = Image.open(image_path)\n",
        "    except IOError:\n",
        "        print(\"Unable to open image file\")\n",
        "        return\n",
        "    features = {\n",
        "      \"width\": img.width,\n",
        "      \"height\": img.height,\n",
        "      \"format\": img.format,\n",
        "      \"drawing\": []\n",
        "    }\n",
        "\n",
        "    pixels = img.load()\n",
        "    for y in range(img.height):\n",
        "      for x in range(img.width):\n",
        "        features[\"drawing\"].append([[x], [y]]))\n",
        "\n",
        "    # Convert features to NDJSON format\n",
        "    ndjson_data = \"\"\n",
        "    for coordinate in features[\"drawing\"]:\n",
        "        ndjson_data += json.dumps({**features, \"drawing\": coordinate}) + '\\n'\n",
        "\n",
        "\n",
        "    # Serialize pixel data to NDJSON format\n",
        "    ndjson_data = '\\n'.join(json.dumps(entry) for entry in pixel_data)\n",
        "    return ndjson_data"
      ],
      "metadata": {
        "id": "bduXO2M7fH3p"
      },
      "execution_count": 5,
      "outputs": []
    },
    {
      "cell_type": "code",
      "source": [
        "ndjson_data = image_to_ndjson('/content/20230122_180144.jpg')"
      ],
      "metadata": {
        "id": "n-8EbfkcbU9f"
      },
      "execution_count": 10,
      "outputs": []
    }
  ]
}